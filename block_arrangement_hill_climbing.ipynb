{
  "nbformat": 4,
  "nbformat_minor": 0,
  "metadata": {
    "colab": {
      "provenance": [],
      "include_colab_link": true
    },
    "kernelspec": {
      "name": "python3",
      "display_name": "Python 3"
    },
    "language_info": {
      "name": "python"
    }
  },
  "cells": [
    {
      "cell_type": "markdown",
      "metadata": {
        "id": "view-in-github",
        "colab_type": "text"
      },
      "source": [
        "<a href=\"https://colab.research.google.com/github/SumiranD/AI_Lab_Heuristic/blob/main/block_arrangement_hill_climbing.ipynb\" target=\"_parent\"><img src=\"https://colab.research.google.com/assets/colab-badge.svg\" alt=\"Open In Colab\"/></a>"
      ]
    },
    {
      "cell_type": "code",
      "execution_count": null,
      "metadata": {
        "colab": {
          "base_uri": "https://localhost:8080/"
        },
        "id": "a7cz-O4yL-6r",
        "outputId": "182d0d39-c8b3-4f12-9b58-764c7a386777"
      },
      "outputs": [
        {
          "output_type": "stream",
          "name": "stdout",
          "text": [
            "Initial Stack: ['C', 'A', 'D', 'B']\n",
            "Initial Heuristic: 4\n",
            "Neighbor: ['A', 'C', 'D', 'B'] Heuristic: 3\n",
            "Neighbor: ['C', 'D', 'A', 'B'] Heuristic: 4\n",
            "Neighbor: ['C', 'A', 'B', 'D'] Heuristic: 3\n",
            "\n",
            "Move: Swap indices (0, 1) => ['A', 'C', 'D', 'B'] with Heuristic: 3\n",
            "Neighbor: ['C', 'A', 'D', 'B'] Heuristic: 4\n",
            "Neighbor: ['A', 'D', 'C', 'B'] Heuristic: 2\n",
            "Neighbor: ['A', 'C', 'B', 'D'] Heuristic: 2\n",
            "\n",
            "Move: Swap indices (1, 2) => ['A', 'D', 'C', 'B'] with Heuristic: 2\n",
            "Neighbor: ['D', 'A', 'C', 'B'] Heuristic: 3\n",
            "Neighbor: ['A', 'C', 'D', 'B'] Heuristic: 3\n",
            "Neighbor: ['A', 'D', 'B', 'C'] Heuristic: 3\n",
            "\n",
            "Hill climbing stuck at local maximum or reached goal.\n",
            "\n",
            "Final Stack: ['A', 'D', 'C', 'B']\n",
            "Solution Path:\n",
            "['C', 'A', 'D', 'B']\n",
            "['A', 'C', 'D', 'B']\n",
            "['A', 'D', 'C', 'B']\n",
            "Stuck before reaching the goal.\n"
          ]
        }
      ],
      "source": [
        "import copy\n",
        "import random\n",
        "\n",
        "GOAL_STATE = ['A', 'B', 'C', 'D']\n",
        "\n",
        "def heuristic(state):\n",
        "    return sum(1 for i in range(4) if state[i] != GOAL_STATE[i])\n",
        "\n",
        "def get_neighbors(state):\n",
        "    neighbors = []\n",
        "    for i in range(len(state) - 1):\n",
        "        new_state = state[:]\n",
        "        new_state[i], new_state[i+1] = new_state[i+1], new_state[i]\n",
        "        neighbors.append((new_state, (i, i+1)))\n",
        "    return neighbors\n",
        "\n",
        "def hill_climbing(initial_state):\n",
        "    current = initial_state[:]\n",
        "    path = [current[:]]\n",
        "    print(\"Initial Stack:\", current)\n",
        "    print(\"Initial Heuristic:\", heuristic(current))\n",
        "\n",
        "    while True:\n",
        "        current_h = heuristic(current)\n",
        "        neighbors = get_neighbors(current)\n",
        "\n",
        "        best_neighbor = current\n",
        "        best_h = current_h\n",
        "        best_move = None\n",
        "\n",
        "        for neighbor, move in neighbors:\n",
        "            h = heuristic(neighbor)\n",
        "            print(\"Neighbor:\", neighbor, \"Heuristic:\", h)\n",
        "            if h < best_h:\n",
        "                best_neighbor = neighbor\n",
        "                best_h = h\n",
        "                best_move = move\n",
        "\n",
        "        if best_h >= current_h:\n",
        "            print(\"\\nHill climbing stuck at local maximum or reached goal.\")\n",
        "            break\n",
        "        else:\n",
        "            print(f\"\\nMove: Swap indices {best_move} => {best_neighbor} with Heuristic: {best_h}\")\n",
        "            current = best_neighbor\n",
        "            path.append(current[:])\n",
        "\n",
        "    print(\"\\nFinal Stack:\", current)\n",
        "    print(\"Solution Path:\")\n",
        "    for step in path:\n",
        "        print(step)\n",
        "    if current == GOAL_STATE:\n",
        "        print(\"Goal reached!\")\n",
        "    else:\n",
        "        print(\"Stuck before reaching the goal.\")\n",
        "\n",
        "if __name__ == \"__main__\":\n",
        "    initial = ['C', 'A', 'D', 'B']\n",
        "    hill_climbing(initial)\n"
      ]
    }
  ]
}